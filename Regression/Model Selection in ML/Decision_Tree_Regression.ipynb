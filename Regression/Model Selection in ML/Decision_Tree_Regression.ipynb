{
  "nbformat": 4,
  "nbformat_minor": 0,
  "metadata": {
    "colab": {
      "provenance": [],
      "toc_visible": true
    },
    "kernelspec": {
      "name": "python3",
      "display_name": "Python 3"
    }
  },
  "cells": [
    {
      "cell_type": "markdown",
      "metadata": {
        "id": "NnPEZHzaF84c"
      },
      "source": [
        "# Decision Tree Regression"
      ]
    },
    {
      "cell_type": "markdown",
      "metadata": {
        "id": "MAoMviwdF_dS"
      },
      "source": [
        "## Importing the libraries"
      ]
    },
    {
      "cell_type": "code",
      "metadata": {
        "id": "AG2pWy4dGv0G"
      },
      "source": [
        "import numpy as np\n",
        "import matplotlib.pyplot as plt\n",
        "import pandas as pd"
      ],
      "execution_count": null,
      "outputs": []
    },
    {
      "cell_type": "markdown",
      "metadata": {
        "id": "ukNpho2tGIj8"
      },
      "source": [
        "## Data Set Import"
      ]
    },
    {
      "cell_type": "code",
      "metadata": {
        "id": "buYLnf2pGyoc"
      },
      "source": [
        "data_set = pd.read_csv('CCPP.csv')\n",
        "X = data_set.iloc[:, :-1].values\n",
        "y = data_set.iloc[:, -1].values"
      ],
      "execution_count": null,
      "outputs": []
    },
    {
      "cell_type": "markdown",
      "metadata": {
        "id": "_ME70lO_GJ4Q"
      },
      "source": [
        "## Splitting the dataset into the Training & Test set"
      ]
    },
    {
      "cell_type": "code",
      "metadata": {
        "id": "VZ2gn18lG3wn"
      },
      "source": [
        "from sklearn.model_selection import train_test_split\n",
        "X_train, X_test, y_train, y_test = train_test_split(X, y, test_size = 0.2, random_state = 0)"
      ],
      "execution_count": null,
      "outputs": []
    },
    {
      "cell_type": "markdown",
      "metadata": {
        "id": "pwhSjXpQGM_2"
      },
      "source": [
        "## Decision Tree Regression model Training on the Training set"
      ]
    },
    {
      "cell_type": "code",
      "metadata": {
        "id": "_FtP53LXG6ll",
        "colab": {
          "base_uri": "https://localhost:8080/"
        },
        "outputId": "6c9bdf37-324d-4a58-86ae-257023a63aa7"
      },
      "source": [
        "from sklearn.tree import DecisionTreeRegressor\n",
        "regressor = DecisionTreeRegressor(random_state = 21)\n",
        "regressor.fit(X_train, y_train)"
      ],
      "execution_count": null,
      "outputs": [
        {
          "output_type": "execute_result",
          "data": {
            "text/plain": [
              "DecisionTreeRegressor(ccp_alpha=0.0, criterion='mse', max_depth=None,\n",
              "                      max_features=None, max_leaf_nodes=None,\n",
              "                      min_impurity_decrease=0.0, min_impurity_split=None,\n",
              "                      min_samples_leaf=1, min_samples_split=2,\n",
              "                      min_weight_fraction_leaf=0.0, presort='deprecated',\n",
              "                      random_state=21, splitter='best')"
            ]
          },
          "metadata": {
            "tags": []
          },
          "execution_count": 4
        }
      ]
    },
    {
      "cell_type": "markdown",
      "metadata": {
        "id": "k1ZEA16lGSnN"
      },
      "source": [
        "## Test set results Predictions"
      ]
    },
    {
      "cell_type": "code",
      "metadata": {
        "id": "3mZjyAufHSBS",
        "colab": {
          "base_uri": "https://localhost:8080/"
        },
        "outputId": "b80cb8a1-4d0b-4801-8fc7-06ad040cec0a"
      },
      "source": [
        "y_pred = regressor.predict(X_test)\n",
        "np.set_printoptions(precision=2)\n",
        "print(np.concatenate((y_pred.reshape(len(y_pred),1), y_test.reshape(len(y_test),1)),1))"
      ],
      "execution_count": null,
      "outputs": [
        {
          "output_type": "stream",
          "text": [
            "[[429.06 431.23]\n",
            " [459.59 460.01]\n",
            " [460.19 461.14]\n",
            " ...\n",
            " [471.46 473.26]\n",
            " [437.76 438.  ]\n",
            " [462.55 463.28]]\n"
          ],
          "name": "stdout"
        }
      ]
    },
    {
      "cell_type": "markdown",
      "metadata": {
        "id": "aQl2P-bkGVfG"
      },
      "source": [
        "## Model Performance Evaluation"
      ]
    },
    {
      "cell_type": "code",
      "metadata": {
        "id": "6pHDHCViHTB5",
        "colab": {
          "base_uri": "https://localhost:8080/"
        },
        "outputId": "b0293d3c-2e7b-4477-c5eb-324b206544a7"
      },
      "source": [
        "from sklearn.metrics import r2_score\n",
        "r2_score(y_test, y_pred)"
      ],
      "execution_count": null,
      "outputs": [
        {
          "output_type": "execute_result",
          "data": {
            "text/plain": [
              "0.918856576820321"
            ]
          },
          "metadata": {
            "tags": []
          },
          "execution_count": 6
        }
      ]
    }
  ]
}