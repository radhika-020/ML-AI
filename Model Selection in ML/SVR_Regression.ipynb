{
  "nbformat": 4,
  "nbformat_minor": 0,
  "metadata": {
    "colab": {
      "provenance": [],
      "toc_visible": true
    },
    "kernelspec": {
      "name": "python3",
      "display_name": "Python 3"
    }
  },
  "cells": [
    {
      "cell_type": "markdown",
      "metadata": {
        "id": "NnPEZHzaF84c"
      },
      "source": [
        "# SVR"
      ]
    },
    {
      "cell_type": "markdown",
      "metadata": {
        "id": "MAoMviwdF_dS"
      },
      "source": [
        "## Importing the libraries"
      ]
    },
    {
      "cell_type": "code",
      "metadata": {
        "id": "7vuIGMSSJkSU"
      },
      "source": [
        "import numpy as np\n",
        "import matplotlib.pyplot as plt\n",
        "import pandas as pd"
      ],
      "execution_count": null,
      "outputs": []
    },
    {
      "cell_type": "markdown",
      "metadata": {
        "id": "ukNpho2tGIj8"
      },
      "source": [
        "## Data Set Import"
      ]
    },
    {
      "cell_type": "code",
      "metadata": {
        "id": "SQ3pkLxJJl4A"
      },
      "source": [
        "data_set = pd.read_csv('CCPP.csv')\n",
        "X = data_set.iloc[:, :-1].values\n",
        "y = data_set.iloc[:, -1].values"
      ],
      "execution_count": null,
      "outputs": []
    },
    {
      "cell_type": "code",
      "metadata": {
        "id": "UI9ZWXL5V4rI"
      },
      "source": [
        "y = y.reshape(len(y),1)"
      ],
      "execution_count": null,
      "outputs": []
    },
    {
      "cell_type": "markdown",
      "metadata": {
        "id": "_ME70lO_GJ4Q"
      },
      "source": [
        "## Splitting the dataset into the Training & Test set"
      ]
    },
    {
      "cell_type": "code",
      "metadata": {
        "id": "eqsM8yOrJner"
      },
      "source": [
        "from sklearn.model_selection import train_test_split\n",
        "X_train, X_test, y_train, y_test = train_test_split(X, y, test_size = 0.2, random_state = 0)"
      ],
      "execution_count": null,
      "outputs": []
    },
    {
      "cell_type": "markdown",
      "metadata": {
        "id": "c6Odjsb7Jsh0"
      },
      "source": [
        "## Feature Scaling"
      ]
    },
    {
      "cell_type": "code",
      "metadata": {
        "id": "Km9mP-IzJzdi"
      },
      "source": [
        "from sklearn.preprocessing import StandardScaler\n",
        "sc_X = StandardScaler()\n",
        "sc_y = StandardScaler()\n",
        "X_train = sc_X.fit_transform(X_train)\n",
        "y_train = sc_y.fit_transform(y_train)"
      ],
      "execution_count": null,
      "outputs": []
    },
    {
      "cell_type": "markdown",
      "metadata": {
        "id": "pwhSjXpQGM_2"
      },
      "source": [
        "## SVR model Training on the Training set"
      ]
    },
    {
      "cell_type": "code",
      "metadata": {
        "id": "OQ1YAiMlJ4p9",
        "colab": {
          "base_uri": "https://localhost:8080/"
        },
        "outputId": "8c6424a5-7166-4f15-88ca-70ba2c8bbe8d"
      },
      "source": [
        "from sklearn.svm import SVR\n",
        "regressor = SVR(kernel = 'rbf')\n",
        "regressor.fit(X_train, y_train)"
      ],
      "execution_count": null,
      "outputs": [
        {
          "output_type": "stream",
          "text": [
            "/usr/local/lib/python3.6/dist-packages/sklearn/utils/validation.py:760: DataConversionWarning: A column-vector y was passed when a 1d array was expected. Please change the shape of y to (n_samples, ), for example using ravel().\n",
            "  y = column_or_1d(y, warn=True)\n"
          ],
          "name": "stderr"
        },
        {
          "output_type": "execute_result",
          "data": {
            "text/plain": [
              "SVR(C=1.0, cache_size=200, coef0=0.0, degree=3, epsilon=0.1, gamma='scale',\n",
              "    kernel='rbf', max_iter=-1, shrinking=True, tol=0.001, verbose=False)"
            ]
          },
          "metadata": {
            "tags": []
          },
          "execution_count": 17
        }
      ]
    },
    {
      "cell_type": "markdown",
      "metadata": {
        "id": "k1ZEA16lGSnN"
      },
      "source": [
        "## Test set results Predictions"
      ]
    },
    {
      "cell_type": "code",
      "metadata": {
        "id": "F8O3trL-J7Cw",
        "colab": {
          "base_uri": "https://localhost:8080/"
        },
        "outputId": "8c1c2b8a-6241-442a-df33-312ae3436083"
      },
      "source": [
        "y_pred = sc_y.inverse_transform(regressor.predict(sc_X.transform(X_test)))\n",
        "np.set_printoptions(precision=2)\n",
        "print(np.concatenate((y_pred.reshape(len(y_pred),1), y_test.reshape(len(y_test),1)),1))"
      ],
      "execution_count": null,
      "outputs": [
        {
          "output_type": "stream",
          "text": [
            "[[434.05 431.23]\n",
            " [457.94 460.01]\n",
            " [461.03 461.14]\n",
            " ...\n",
            " [470.6  473.26]\n",
            " [439.42 438.  ]\n",
            " [460.92 463.28]]\n"
          ],
          "name": "stdout"
        }
      ]
    },
    {
      "cell_type": "markdown",
      "metadata": {
        "id": "aQl2P-bkGVfG"
      },
      "source": [
        "## Model Performance Evaluation"
      ]
    },
    {
      "cell_type": "code",
      "metadata": {
        "id": "4L4p5rjzJ9N_",
        "colab": {
          "base_uri": "https://localhost:8080/"
        },
        "outputId": "1415bf15-ef63-45c6-8f9e-8ddec82c6bfe"
      },
      "source": [
        "from sklearn.metrics import r2_score\n",
        "r2_score(y_test, y_pred)"
      ],
      "execution_count": null,
      "outputs": [
        {
          "output_type": "execute_result",
          "data": {
            "text/plain": [
              "0.9480784049986258"
            ]
          },
          "metadata": {
            "tags": []
          },
          "execution_count": 19
        }
      ]
    }
  ]
}