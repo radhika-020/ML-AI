{
 "cells": [
  {
   "cell_type": "code",
   "execution_count": 2,
   "metadata": {},
   "outputs": [
    {
     "name": "stdout",
     "output_type": "stream",
     "text": [
      "List in 1D:  []\n"
     ]
    }
   ],
   "source": [
    "R = int(input(\"Enter no. of rows: \"))\n",
    "C = int(input(\"Enter no. of columns: \"))\n",
    "\n",
    "list1 = [int(x) for x in input().split()]\n",
    "print(\"List in 1D: \", list1)  #The output should be [1, 2, 3, 4] because we are adding the input to the list and splitting it with the space. "
   ]
  },
  {
   "cell_type": "code",
   "execution_count": 5,
   "metadata": {},
   "outputs": [
    {
     "name": "stdout",
     "output_type": "stream",
     "text": [
      "List in 1D:  [1, 2, 3, 4]\n",
      "List in 2D:  [[1, 2], [3, 4]]\n"
     ]
    }
   ],
   "source": [
    "R = int(input(\"Enter no. of rows: \"))\n",
    "C = int(input(\"Enter no. of columns: \"))\n",
    "\n",
    "list1 = [int(x) for x in input().split()]\n",
    "print(\"List in 1D: \", list1)\n",
    "\n",
    "a = []\n",
    "\n",
    "for i in range(R):\n",
    "    a.append([])\n",
    "    for j in range(C):\n",
    "        a[i].append(list1[C*i+j])\n",
    "\n",
    "print(\"List in 2D: \", a)"
   ]
  },
  {
   "cell_type": "code",
   "execution_count": 11,
   "metadata": {},
   "outputs": [
    {
     "name": "stdout",
     "output_type": "stream",
     "text": [
      "1\n",
      "4\n",
      "7\n",
      "10\n",
      "11\n",
      "8\n",
      "5\n",
      "2\n",
      "3\n",
      "6\n",
      "9\n",
      "12\n"
     ]
    }
   ],
   "source": [
    "list1 = [[1, 2, 3], [4, 5, 6], [7, 8, 9], [10, 11, 12]]\n",
    "\n",
    "rows = len(list1) #4\n",
    "cols = len(list1[0]) #3\n",
    "\n",
    "for j in range(cols):\n",
    "    if j % 2 ==0:\n",
    "        for i in range(rows):\n",
    "            print(list1[i][j])\n",
    "    else:\n",
    "        i = rows - 1\n",
    "        while (i >=0):\n",
    "            print(list1[i][j])\n",
    "            i -= 1"
   ]
  },
  {
   "cell_type": "code",
   "execution_count": 12,
   "metadata": {},
   "outputs": [
    {
     "data": {
      "text/plain": [
       "15"
      ]
     },
     "execution_count": 12,
     "metadata": {},
     "output_type": "execute_result"
    }
   ],
   "source": [
    "import math\n",
    "\n",
    "math.gcd(120, 45)"
   ]
  },
  {
   "cell_type": "code",
   "execution_count": 13,
   "metadata": {},
   "outputs": [
    {
     "name": "stdout",
     "output_type": "stream",
     "text": [
      "a\n"
     ]
    }
   ],
   "source": [
    "import math\n",
    "\n",
    "math.gcd(120, 45)\n",
    "print(\"a\")"
   ]
  },
  {
   "cell_type": "code",
   "execution_count": 14,
   "metadata": {},
   "outputs": [
    {
     "name": "stdout",
     "output_type": "stream",
     "text": [
      "a\n",
      "15\n"
     ]
    }
   ],
   "source": [
    "import math\n",
    "\n",
    "x = math.gcd(120, 45)\n",
    "print(\"a\")\n",
    "print(x)"
   ]
  },
  {
   "cell_type": "code",
   "execution_count": 15,
   "metadata": {},
   "outputs": [
    {
     "name": "stdout",
     "output_type": "stream",
     "text": [
      "a\n",
      "15\n"
     ]
    }
   ],
   "source": [
    "import math as m\n",
    "\n",
    "x = m.gcd(120, 45)\n",
    "print(\"a\")\n",
    "print(x)"
   ]
  },
  {
   "cell_type": "code",
   "execution_count": null,
   "metadata": {},
   "outputs": [],
   "source": []
  }
 ],
 "metadata": {
  "kernelspec": {
   "display_name": "Python 3.10.4 64-bit",
   "language": "python",
   "name": "python3"
  },
  "language_info": {
   "codemirror_mode": {
    "name": "ipython",
    "version": 3
   },
   "file_extension": ".py",
   "mimetype": "text/x-python",
   "name": "python",
   "nbconvert_exporter": "python",
   "pygments_lexer": "ipython3",
   "version": "3.10.4"
  },
  "orig_nbformat": 4,
  "vscode": {
   "interpreter": {
    "hash": "e593ac106456af50ce7af38f9671c411b49d6cd90f9b885e167f0f594e09038c"
   }
  }
 },
 "nbformat": 4,
 "nbformat_minor": 2
}
